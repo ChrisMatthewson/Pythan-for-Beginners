{
  "nbformat": 4,
  "nbformat_minor": 0,
  "metadata": {
    "colab": {
      "name": "Copy of Worksheet - Dictionaries.ipynb",
      "provenance": [],
      "collapsed_sections": [],
      "include_colab_link": true
    },
    "kernelspec": {
      "name": "python3",
      "display_name": "Python 3"
    },
    "language_info": {
      "name": "python"
    }
  },
  "cells": [
    {
      "cell_type": "markdown",
      "metadata": {
        "id": "view-in-github",
        "colab_type": "text"
      },
      "source": [
        "<a href=\"https://colab.research.google.com/github/ChrisMatthewson/Pythan-for-Beginners/blob/main/Copy_of_Worksheet_Dictionaries.ipynb\" target=\"_parent\"><img src=\"https://colab.research.google.com/assets/colab-badge.svg\" alt=\"Open In Colab\"/></a>"
      ]
    },
    {
      "cell_type": "markdown",
      "metadata": {
        "id": "AiiF1h2X4PHP"
      },
      "source": [
        "# Dictionaries\n",
        "\n",
        "---\n",
        "\n",
        "A **dictionary** is a collection of dissimilar data stored together in one *record*. Each item of data has a  (or key) that describes its paired value.  \n",
        "\n",
        "Create a dictionary object by declaring the set of keys and values, e.g.:\n",
        "\n",
        "```\n",
        "   transport = {\n",
        "       \"type\":\"bus\",\n",
        "       \"numPassengers\":72,\n",
        "       \"colour\":\"blue\",\n",
        "       \"fuel\":\"diesel\"\n",
        "   }\n",
        "```\n",
        "\n",
        "To access a value in a dictionary, use its key:  \n",
        "\n",
        "```\n",
        "transport[\"type\"] = \"coach\"\n",
        "transport_type = transport[\"type\"]\n",
        "transport_colour = transport[\"colour\"]\n",
        "transport[\"fuel\"] = petrol\n",
        "```\n",
        "\n",
        "To add a new key/value pair to a dictionary, simply assign a value to a new key:  \n",
        "```\n",
        "transport[\"seats\"] = 54\n",
        "```\n",
        "\n",
        "The transport dictionary will now look like this:  \n",
        "```\n",
        "   transport = {\n",
        "       \"type\":\"bus\",\n",
        "       \"numPassengers\":72,\n",
        "       \"colour\":\"blue\",\n",
        "       \"fuel\":\"diesel\",\n",
        "       \"seats\":54\n",
        "   }\n",
        "```\n",
        "\n"
      ]
    },
    {
      "cell_type": "markdown",
      "metadata": {
        "id": "1uZ5kNWB6CqK"
      },
      "source": [
        "---\n",
        "### Exercise 1 - print dictionary\n",
        "\n",
        "Write a function which will:  \n",
        "\n",
        "*  create an empty dictionary for a person (name, age and postcode, with values \"\", 0 and \"\")\n",
        "*  ask the user for name, age and postcode and assign the values to the correct keys in the dictionary  \n",
        "*  print the dictionary\n",
        "\n",
        "Test input:  \n",
        "Jack Jones  \n",
        "16  \n",
        "AB5 3DF  \n",
        "\n",
        "Expected output:  \n",
        "```{'name':'Jack Jones', 'age':16, 'postcode':'AB5 3DF'}```"
      ]
    },
    {
      "cell_type": "code",
      "metadata": {
        "id": "Ac7VQTj94Mrc",
        "colab": {
          "base_uri": "https://localhost:8080/"
        },
        "outputId": "6ae1d3db-2336-47e6-ce3b-554244fb7684"
      },
      "source": [
        "def dictionary():\n",
        "  my_dictionary = {\n",
        "      \"Name\":\"\",\n",
        "      \"Age\":0,\n",
        "      \"Post Code\":\"\"\n",
        "  }\n",
        "\n",
        "  print(\"Please enter the following information:\")\n",
        "  name = input(\"Your Name: \")\n",
        "  age = input(\"Your Age: \")\n",
        "  post_code = input(\"Your Post code: \")\n",
        "\n",
        "  my_dictionary[\"Name\"] = name\n",
        "  my_dictionary[\"Age\"] = age\n",
        "  my_dictionary[\"Post Code\"] = post_code\n",
        "\n",
        "  print(\"\")\n",
        "  print(\"Thank you. My Dictionary now holds these details about you: \")\n",
        "  print(\"Your name is \" + my_dictionary[\"Name\"] + \".  Your age is \" + my_dictionary[\"Age\"] + \".  And your Post Code is \" + my_dictionary[\"Post Code\"] + \".\")\n",
        "\n",
        "\n",
        "\n",
        "dictionary()"
      ],
      "execution_count": null,
      "outputs": [
        {
          "output_type": "stream",
          "name": "stdout",
          "text": [
            "Please enter the following information:\n",
            "Your Name: Chris\n",
            "Your Age: 23\n",
            "Your Post code: CT19 6AS\n",
            "\n",
            "Thank you. My Dictionary now holds these details about you: \n",
            "Your name is Chris.  Your age is 23.  And your Post Code is CT19 6AS.\n"
          ]
        }
      ]
    },
    {
      "cell_type": "markdown",
      "metadata": {
        "id": "0OtNqNKv7WKm"
      },
      "source": [
        "---\n",
        "### Exercise 2 - create a dictionary\n",
        "\n",
        "Write a function that will create two dictionaries,without values:  \n",
        "\n",
        "1.  person (with keys firstname, surname, birthdate, postcode)  \n",
        "2.  car (with key/value pairs as follows:  make - Vauxhall, model - Corsa, engineSize - 1199, fuelType - unleaded, num_doors - 4)  \n",
        "\n",
        "*   ask the user to enter the values for the person dictionary  \n",
        "*   print, on one line, the person's name from the person dictionary and the make of the car from the car dictionary.\n",
        "\n",
        "Test input:  \n",
        "Jack  \n",
        "Jones  \n",
        "2005/02/02    \n",
        "AB5 3DF  \n",
        "\n",
        "Expected output:  \n",
        "Jack Jones Vauxhall"
      ]
    },
    {
      "cell_type": "code",
      "metadata": {
        "id": "ZyqhaBCC-GdI",
        "colab": {
          "base_uri": "https://localhost:8080/"
        },
        "outputId": "a3aff62d-9961-4e14-9585-be7c4233ed91"
      },
      "source": [
        "def create():\n",
        "  person = {\n",
        "      \"firstname\":\"\",\n",
        "      \"surname\":\"\",\n",
        "      \"birthdate\":\"\",\n",
        "      \"postcode\":\"\"\n",
        "  }\n",
        "  car = {\n",
        "      \"make\":\"Vauxhall\",\n",
        "      \"model\":\"Corsa\",\n",
        "      \"engineSize\":1199,\n",
        "      \"fuelType\":\"unleaded\",\n",
        "      \"num_doors\":4\n",
        "  }  \n",
        "\n",
        "  print(\"Please enter the following information:\")\n",
        "  person[\"firstname\"] = input(\"Your Firstname: \")\n",
        "  person[\"surname\"] = input(\"Your Surname: \")\n",
        "  person[\"birthdate\"] = input(\"Your Birth Date: \")\n",
        "  person[\"postcode\"] = input(\"Your Post Code: \")\n",
        "\n",
        "  fullname = person[\"firstname\"] + \" \" + person[\"surname\"]\n",
        "  car_make = car[\"make\"]\n",
        "\n",
        "  print(\"\")\n",
        "  #print(\"Thank you. My Dictionary now holds these details about you: \")\n",
        "  print(\"Your name is \" + fullname + \" and the make of your car is a \" + car_make + \".\")\n",
        "\n",
        "\n",
        "create()"
      ],
      "execution_count": null,
      "outputs": [
        {
          "output_type": "stream",
          "name": "stdout",
          "text": [
            "Please enter the following information:\n",
            "Your Firstname: Chris\n",
            "Your Surname: Matthewson\n",
            "Your Birth Date: 07/03/22\n",
            "Your Post Code: CT19 6AS\n",
            "\n",
            "Your name is Chris Matthewson and the make of your car is a Vauxhall.\n"
          ]
        }
      ]
    },
    {
      "cell_type": "markdown",
      "metadata": {
        "id": "gYuuOUYw-G4I"
      },
      "source": [
        "---\n",
        "### Exercise 3 - check dictionary values\n",
        "\n",
        "Write a new function which will:\n",
        "\n",
        "*  set up the same two dictionaries as in Exercise 2  \n",
        "*  ask the user to enter the details to complete the person record  \n",
        "*  calculate the person's age  \n",
        "*  if the person is under 17 then print a message to say that they can't buy a car as they are too young to drive\n",
        "*  else if the person is under 25 then print a message to say that an engine size under 1200 is recommended  \n",
        "*  ask the user to enter the make of car that the person is looking for  \n",
        "*  if the user enters the same make as that stored in the car record, then print a message to say that you have one car of that make in stock and print all the details of the car that you have the record for\n",
        "*  else (if the user enters any other car make) then print a message to say sorry that you don't have any cars of that make in stock\n",
        "*  print a message to say that the user can get more details for stockist in the <user's postcode> area if they call 01234567890\n",
        "*  print a message to say \"Thank you <user's name> for using our site\"  \n",
        "\n",
        "Test input:  \n",
        "Jack  \n",
        "Jones  \n",
        "2005/02/02  \n",
        "AB5 3DF  \n",
        "Vauxhall  \n",
        "\n",
        "Expected output:  \n",
        "You are too young to drive\n",
        "\n",
        "Test input:  \n",
        "John  \n",
        "Jones  \n",
        "2003/02/02  \n",
        "AB5 3DF  \n",
        "Vauxhall \n",
        "\n",
        "Expected output:  \n",
        "An engine size under 1200 is recommended  \n",
        "We have one Vauxhall in stock, details:  \n",
        "Make - Vauxhall    \n",
        "Model - Corsa    \n",
        "Engine size - 1199  \n",
        "Fuel type - unleaded   \n",
        "Number of doors - 4  \n",
        "You can get more details of stockists near AB5 3DF on 01234567890  \n",
        "Thank you John Jones for using our site.     \n",
        "\n",
        "Test input:  \n",
        "John  \n",
        "Jones  \n",
        "2003/02/02  \n",
        "AB5 3DF  \n",
        "Ford  \n",
        "\n",
        "Expected output:  \n",
        "An engine size under 1200 is recommended  \n",
        "Sorry, we don't have any of that make in stock  \n"
      ]
    },
    {
      "cell_type": "code",
      "metadata": {
        "id": "Wp9Il2JG_hDh",
        "colab": {
          "base_uri": "https://localhost:8080/"
        },
        "outputId": "a22113a6-91e0-4e37-ac74-97c902d35e4c"
      },
      "source": [
        "from datetime import datetime\n",
        "#import time\n",
        "\n",
        "def check():\n",
        "  person = {\n",
        "      \"firstname\":\"\",\n",
        "      \"surname\":\"\",\n",
        "      \"birthdate\":\"\",\n",
        "      \"postcode\":\"\"\n",
        "  }\n",
        "  car = {\n",
        "      \"make\":\"Vauxhall\",\n",
        "      \"model\":\"Corsa\",\n",
        "      \"engineSize\":1199,\n",
        "      \"fuelType\":\"unleaded\",\n",
        "      \"num_doors\":4\n",
        "  } \n",
        "\n",
        "  print(\"*****WELCOME TO THE PYTHON CARS WEBSITE*****\")\n",
        "  print(\"\")\n",
        "  print(\"Please enter the following information:\")\n",
        "  person[\"firstname\"] = input(\"Your Firstname: \")\n",
        "  person[\"surname\"] = input(\"Your Surname: \")\n",
        "  person[\"birthdate\"] = input(\"Your Birth Date; in the format 22/09/1989: \")\n",
        "  person[\"postcode\"] = input(\"Your Post Code: \")\n",
        "\n",
        "  print(\"\")\n",
        "  print(\"Thank You!\")\n",
        "  print(\"\")\n",
        "\n",
        "  # This next bit took a whole week of research as to how to get an inputed birth date \n",
        "  # in the UK format and then calculate it with todays date to work out their age.\n",
        "\n",
        "  birth_input = person[\"birthdate\"]\n",
        "  birth_input_format = birth_input.replace(\"/\",\" \")\n",
        "\n",
        "  dob = datetime.strptime(birth_input_format, '%d %m %Y')\n",
        "  \n",
        "  today = date.today()\n",
        "  age = today.year - dob.year - ((today.month, today.day) < (dob.month, dob.day))\n",
        "  # My head hurts!\n",
        "\n",
        "  if age < 17:\n",
        "    print(\"I'm sorry, you can't buy a car as you are too young to drive.\")\n",
        "  else:\n",
        "    if age <25: \n",
        "      print(\"Due to your age, we recommend an engine size under 1200.\")\n",
        "      print(\"\")\n",
        "      \n",
        "    car_make = input(\"Please enter the make of car in which you are interested: \")\n",
        "    if car_make == car[\"make\"]:\n",
        "      print(\"\")\n",
        "      print(\"You are in luck! We have one of that make in stock:\")\n",
        "      print(\"Make:\", car[\"make\"])\n",
        "      print(\"Model:\", car[\"model\"])\n",
        "      print(\"Engine Size:\", car[\"engineSize\"])\n",
        "      print(\"Fuel Type:\", car[\"fuelType\"])\n",
        "      print(\"Number of Doors:\", car[\"num_doors\"])\n",
        "    else:\n",
        "      print(\"\")\n",
        "      print(\"We are sorry, we do not have any of that make in stock at the moment.\")\n",
        "      print(\"You can get more details for stockist in the\", person[\"postcode\"], \"area by calling 01234567890\")\n",
        "\n",
        "  print(\"\")\n",
        "  print(\"Thank you,\", person[\"firstname\"], \"for using the PYTHON CARS website. Have a nice day!\")\n",
        "  \n",
        " \n",
        "check()"
      ],
      "execution_count": 75,
      "outputs": [
        {
          "output_type": "stream",
          "name": "stdout",
          "text": [
            "*****WELCOME TO THE PYTHON CARS WEBSITE*****\n",
            "\n",
            "Please enter the following information:\n",
            "Your Firstname: Chris\n",
            "Your Surname: Matthewson\n",
            "Your Birth Date; in the format 22/09/1989: 07/03/1990\n",
            "Your Post Code: CT19 6AS\n",
            "\n",
            "Thank You!\n",
            "\n",
            "Please enter the make of car in which you are interested: Vauxhall\n",
            "\n",
            "You are in luck! We have one of that make in stock:\n",
            "Make: Vauxhall\n",
            "Model: Corsa\n",
            "Engine Size: 1199\n",
            "Fuel Type: unleaded\n",
            "Number of Doors: 4\n",
            "\n",
            "Thank you, Chris for using the PYTHON CARS website. Have a nice day!\n"
          ]
        }
      ]
    },
    {
      "cell_type": "markdown",
      "metadata": {
        "id": "I6dUiRwn7Gkg"
      },
      "source": [
        "---\n",
        "### Exercise 4 - print keys and values\n",
        "\n",
        "Two dictionaries have been created below.  You can print a list of the dictionary's keys using `dictionary_name.keys()` and the values using `dictionary_name.values()`\n",
        "\n",
        "Write a function which will accept a dictionary as a parameter and will:  \n",
        "*  print the dictionary keys as a list   \n",
        "*  print the dictionary values as a list  \n",
        "\n",
        "*Hint*:  you will need to cast the keys as a list (`list(dictionary_name.keys()`)  and do the same for the values.\n",
        "\n",
        "**Expected Output**\n",
        "\n",
        "Input: English  \n",
        "Output: \n",
        "['Andy', 'Angela']  \n",
        "[95, 53]  \n",
        "\n",
        "Input: Maths  \n",
        "Output:  \n",
        "['Andy', 'Angela']  \n",
        "[58, 72] \n",
        " \n",
        "\n",
        "\n"
      ]
    },
    {
      "cell_type": "code",
      "metadata": {
        "id": "FApOckhJEsMs",
        "colab": {
          "base_uri": "https://localhost:8080/"
        },
        "outputId": "13f21f4b-bc09-44d4-eda9-8c84e792bb58"
      },
      "source": [
        "def display_dictionary(scores):\n",
        "  #  add your code below this line\n",
        "  \n",
        "  print(list(scores.keys()))\n",
        "  print(list(scores.values()))\n",
        "\n",
        "\n",
        "english_scores = {'Andy': 95, 'Angela': 53}\n",
        "maths_scores = {'Andy': 58, 'Angela': 72}\n",
        "display_dictionary(english_scores)\n",
        "display_dictionary(maths_scores)"
      ],
      "execution_count": null,
      "outputs": [
        {
          "output_type": "stream",
          "name": "stdout",
          "text": [
            "['Andy', 'Angela']\n",
            "[95, 53]\n",
            "['Andy', 'Angela']\n",
            "[58, 72]\n"
          ]
        }
      ]
    },
    {
      "cell_type": "markdown",
      "metadata": {
        "id": "segSpkmBFSJl"
      },
      "source": [
        "---\n",
        "### Exercise 5 - add field\n",
        "\n",
        "Write a function which will:\n",
        "\n",
        "*  create a new dictionary called **science_scores** with values of 0 for both Andy and Angela\n",
        "*  update Andy's score for science to 73 and Angela's score to 73   \n",
        "*  create a new key/value pair by adding another learner to the `science_scores`  dictionary (George has a score of 55)    \n",
        "*  print the `science_scores` dictionary to check results  \n",
        "\n",
        "Expected Output\n",
        "\n",
        "{'Andy': 73, 'Angela': 73, 'George': 55}"
      ]
    },
    {
      "cell_type": "code",
      "metadata": {
        "id": "BL1JM-Z7Gttf",
        "colab": {
          "base_uri": "https://localhost:8080/"
        },
        "outputId": "68a30f27-4401-4d8f-9935-af69404244db"
      },
      "source": [
        "\n",
        "def updater():\n",
        "  \n",
        "  science_scores = {'Andy': 0, 'Angela': 0}\n",
        "  \n",
        "  science_scores['Andy'] = 73\n",
        "  science_scores['Angela'] = 73\n",
        "\n",
        "  science_scores[\"George\"] = 55\n",
        "  \n",
        "  print(science_scores)\n",
        "            \n",
        "\n",
        "updater()"
      ],
      "execution_count": null,
      "outputs": [
        {
          "output_type": "stream",
          "name": "stdout",
          "text": [
            "{'Andy': 73, 'Angela': 73, 'George': 55}\n"
          ]
        }
      ]
    },
    {
      "cell_type": "markdown",
      "metadata": {
        "id": "_Vzv0zlHGt-C"
      },
      "source": [
        "---\n",
        "### Exercise 6 - loop through keys/value pairs\n",
        "\n",
        "Write a function which will use a *for* loop to print the each key/value pair in the science dictionary (recreate this dictionary in this function) \n",
        "\n",
        "*(Hint: you can iterate through the key/value pairs in the dictionary in the same way as you iterate through a loop (e.g. for record in dictionary) and print the record (which is the key) and its value)*\n",
        "\n",
        "Expected output:  \n",
        "\n",
        "Angela 72  \n",
        "Andy 72  \n",
        "George 55  "
      ]
    },
    {
      "cell_type": "code",
      "metadata": {
        "id": "JL40_-W-Hxnt",
        "colab": {
          "base_uri": "https://localhost:8080/"
        },
        "outputId": "75e4fc34-208d-4d33-c7d0-4308672df7dd"
      },
      "source": [
        "def loop_print():\n",
        "  \n",
        "  science_scores = {'Angela': 0, 'Andy': 0}\n",
        "  science_scores['Andy'] = 72\n",
        "  science_scores['Angela'] = 72\n",
        "  science_scores[\"George\"] = 55\n",
        "\n",
        "  for record in science_scores:\n",
        "    print(record, science_scores[record])\n",
        "            \n",
        "\n",
        "loop_print()"
      ],
      "execution_count": null,
      "outputs": [
        {
          "output_type": "stream",
          "name": "stdout",
          "text": [
            "Angela 72\n",
            "Andy 72\n",
            "George 55\n"
          ]
        }
      ]
    },
    {
      "cell_type": "markdown",
      "metadata": {
        "id": "G9wamxzRJdrE"
      },
      "source": [
        "---\n",
        "### Exercise 7 - generate new dictionary  \n",
        "\n",
        "Write a functions which will:\n",
        "*  create a new dictionary where the keys are numbers between 1 and 15 (both included) and the values are square of keys\n",
        "*  print the dictionary\n",
        "\n",
        "Expected output:  \n",
        "{1: 1, 2: 4, 3: 9, 4: 16, 5: 25, 6: 36, 7: 49, 8: 64, 9: 81, 10: 100, 11: 121, 12: 144, 13: 169, 14: 196, 15: 225}"
      ]
    },
    {
      "cell_type": "code",
      "metadata": {
        "id": "1-LI-LVrJ--N",
        "colab": {
          "base_uri": "https://localhost:8080/"
        },
        "outputId": "475b94a5-9df8-455d-ca4f-85fad3377823"
      },
      "source": [
        "def squares():\n",
        "\n",
        "  square_dict = {}\n",
        "  for i in range(1,16):\n",
        "    square_dict[i] = (i*i)\n",
        "\n",
        "  print(square_dict)    \n",
        "\n",
        "\n",
        "squares()\n"
      ],
      "execution_count": null,
      "outputs": [
        {
          "output_type": "stream",
          "name": "stdout",
          "text": [
            "{1: 1, 2: 4, 3: 9, 4: 16, 5: 25, 6: 36, 7: 49, 8: 64, 9: 81, 10: 100, 11: 121, 12: 144, 13: 169, 14: 196, 15: 225}\n"
          ]
        }
      ]
    },
    {
      "cell_type": "markdown",
      "metadata": {
        "id": "t0y4mefwJ_jQ"
      },
      "source": [
        "---\n",
        "### Exercise 8 - colour dictionary  \n",
        "\n",
        "Write a function which will:  \n",
        "*  create a new dictionary record called colour_codes with the values 'red' - '#FF0000', 'green' - '#008000', 'black' - '#000000', 'white' - '#FFFFFF'\n",
        "*  add a new colour code:  'blue' - '#0000FF'    \n",
        "*  remove the colours black and white from the dictionary  \n",
        "\n",
        "*Hint:  there is a list of methods [here](https://www.w3schools.com/python/python_ref_dictionary.asp)*  "
      ]
    },
    {
      "cell_type": "code",
      "metadata": {
        "id": "yod1mUNOMeWg",
        "colab": {
          "base_uri": "https://localhost:8080/"
        },
        "outputId": "35101539-23aa-47cb-ea73-08e66ceef264"
      },
      "source": [
        "def colours():\n",
        "\n",
        "  colour_codes = {\n",
        "      'red':'#FF0000', \n",
        "      'green':'#008000',\n",
        "      'black':'#000000',\n",
        "      'white':'#FFFFFF'       \n",
        "  }\n",
        "\n",
        "  colour_codes['blue'] = '#0000FF'\n",
        "  colour_codes.pop('black')\n",
        "  colour_codes.pop('white')\n",
        "  \n",
        "  print(colour_codes)\n",
        "\n",
        "\n",
        "colours()"
      ],
      "execution_count": null,
      "outputs": [
        {
          "output_type": "stream",
          "name": "stdout",
          "text": [
            "{'red': '#FF0000', 'green': '#008000', 'blue': '#0000FF'}\n"
          ]
        }
      ]
    },
    {
      "cell_type": "markdown",
      "metadata": {
        "id": "gjos_0vuMeyS"
      },
      "source": [
        "---\n",
        "### Exercise 9 - item tuples  \n",
        "\n",
        "Write a function which will:  \n",
        "*  create a new dictionary containing the colour codes for red, green, blue, black and white\n",
        "*  print the key/value pairs of a dictionary as a list of tuples  \n",
        "\n",
        "*Hint:  iterate through colours.items()*"
      ]
    },
    {
      "cell_type": "code",
      "metadata": {
        "id": "EzuMkUypOKTY",
        "colab": {
          "base_uri": "https://localhost:8080/"
        },
        "outputId": "ac19013a-6171-4aee-c7c7-c799eaa71580"
      },
      "source": [
        "#NEEDS WORK!!!!!!!!!!!!!!!!!!!!!!!!!!!!!!!!!!!!\n",
        "def colours():\n",
        "\n",
        "  colour_codes = {\n",
        "      'red':'#FF0000', \n",
        "      'green':'#008000',\n",
        "      'blue':'#FFFFFF',\n",
        "      'black':'#000000',\n",
        "      'white':'#FFFFFF'       \n",
        "  }\n",
        "\n",
        "  for i in colour_codes:\n",
        "    print(i + \" \" + colour_codes[i] + \", \", sep=' ', end='', flush=True)\n",
        "\n",
        "\n",
        "colours()"
      ],
      "execution_count": 9,
      "outputs": [
        {
          "output_type": "stream",
          "name": "stdout",
          "text": [
            "red #FF0000, green #008000, blue #FFFFFF, black #000000, white #FFFFFF, "
          ]
        }
      ]
    },
    {
      "cell_type": "markdown",
      "metadata": {
        "id": "Jw1ot10cOc6r"
      },
      "source": [
        "---\n",
        "### Exercise 10 - check if empty\n",
        "Taken from w3resouce.com  \n",
        "\n",
        "Write a function which will check if a dictionary is empty or not\n",
        "\n",
        "*Hint:  you can use bool(dictionary_name), if the dictionary is empty then bool(dictionary_name will be false)*\n",
        "\n",
        "Test 1 sample data:\n",
        "{}\n",
        "\n",
        "Expected output:\n",
        "Dictionary is empty  \n",
        "\n",
        "Test 2 sample data:  \n",
        "{\"name\":\"Groucho\", \"occupation\":\"comedian\"}\n",
        "\n",
        "Expected output:  \n",
        "Dictionary is not empty"
      ]
    },
    {
      "cell_type": "code",
      "metadata": {
        "id": "7UdM1TfwRqnt",
        "colab": {
          "base_uri": "https://localhost:8080/"
        },
        "outputId": "cdc1f0af-a411-479f-a50e-f47563229bd4"
      },
      "source": [
        "def test_dict():\n",
        "  dict_empty = {}\n",
        "  dict_full = {\"name\":\"Groucho\", \"occupation\":\"comedian\"}\n",
        "\n",
        "  if bool(dict_empty) == False:\n",
        "    print(\"dict_empty is empty\")\n",
        "  elif bool(dict_full) == False:\n",
        "    print(\"dict_full is empty\")\n",
        "    \n",
        "  if bool(dict_empty) == True:\n",
        "    print(\"dict_empty has items in it.\")\n",
        "  elif bool(dict_full) == True:\n",
        "    print(\"dict_full has items in it.\")\n",
        "    \n",
        "  \n",
        "test_dict()"
      ],
      "execution_count": 15,
      "outputs": [
        {
          "output_type": "stream",
          "name": "stdout",
          "text": [
            "dict_empty is empty\n",
            "dict_full has items in it.\n"
          ]
        }
      ]
    }
  ]
}