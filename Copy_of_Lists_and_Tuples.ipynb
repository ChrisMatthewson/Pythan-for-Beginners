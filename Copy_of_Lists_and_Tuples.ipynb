{
  "nbformat": 4,
  "nbformat_minor": 0,
  "metadata": {
    "colab": {
      "name": "Copy of Lists and Tuples.ipynb",
      "provenance": [],
      "collapsed_sections": [],
      "include_colab_link": true
    },
    "kernelspec": {
      "name": "python3",
      "display_name": "Python 3"
    },
    "language_info": {
      "name": "python"
    }
  },
  "cells": [
    {
      "cell_type": "markdown",
      "metadata": {
        "id": "view-in-github",
        "colab_type": "text"
      },
      "source": [
        "<a href=\"https://colab.research.google.com/github/ChrisMatthewson/Pythan-for-Beginners/blob/main/Copy_of_Lists_and_Tuples.ipynb\" target=\"_parent\"><img src=\"https://colab.research.google.com/assets/colab-badge.svg\" alt=\"Open In Colab\"/></a>"
      ]
    },
    {
      "cell_type": "markdown",
      "metadata": {
        "id": "Z-M-RCWATK71"
      },
      "source": [
        "# Lists and tuples\n",
        "\n",
        "Often we need to store a number of single items of data together so that they can be processed together. This might be because all the data refers to one person (e.g. name, age, gender, etc) OR it might be because we have a set of data (e.g. all the items that should be displayed in a drop down list, such as all the years from this year back to 100 years ago so that someone can select their year of birth)\n",
        "\n",
        "Python has a range of data structures available including:\n",
        "*   lists  \n",
        "*   tuples  \n",
        "*   dictionaries  \n",
        "*   sets\n",
        "\n",
        "This worksheet looks at lists and tuples.\n",
        "\n",
        "## List\n",
        "A list is a set of related, individual data objects, that are indexed and can be processed as a whole, as subsets or as individual items.  Lists are stored, essentially, as contiguous items in memory so that access can be as quick as possible.  However, they are mutable (they can be changed after they are created and stored) and so those mechanisms need to include extra functionality to deal with changing list sizes.\n",
        "\n",
        "## Tuple\n",
        "Essentially the same as a list but it is immutable.  Once it has been created it can't be changed.  It is stored in memory as contiguous items, with the size required being fixed right from the start.  This makes it faster to access.\n",
        "\n",
        "The code below will create two lists and a tuple.\n",
        "*   the first list contains 1000 random numbers between 1 and 100\n",
        "*   the second list is of random length (up to 5000) and each item is one of the 9 characteristics that are protected under the Equality Act in the UK.\n",
        "*   the tuple contains the 9 protected characteristics\n",
        "\n",
        "Before you start the exercises, run the code below.  It will generate the lists and tuple so that you can use them in the exercises.  If you need to recreate the lists again (because you have changed them and need to work on the originals, just run this cell again).\n",
        "\n",
        "***Note:***  *a list variable contains a reference to the start of the list in memory, rather than storing the list itself.  This means that if you assign the list to another variable (to make a copy), it will only copy across the reference.  If you change the copy, you change the original list.*\n",
        "\n",
        "*If you need to make a copy of the list you will need to use a loop to create a new list and copy all items across.*"
      ]
    },
    {
      "cell_type": "code",
      "metadata": {
        "id": "BDRckXeQXFMT"
      },
      "source": [
        "from random import randint, choice\n",
        "\n",
        "def get_num_list():\n",
        "  num_list = [randint(1,100) for n in range(1000)]\n",
        "  return num_list\n",
        "\n",
        "def get_protected_characteristics():\n",
        "  characteristics_tuple = ('age','disability','gender reassignment','marriage and civil partnership','pregnancy and maternity','race','religion or belief','sex','sexual orientation')\n",
        "  return characteristics_tuple\n",
        "\n",
        "def get_protected_characteristic_list(protected_characteristics):\n",
        "  char_list = [choice(protected_characteristics) for ch in range(randint(1,5000))]\n",
        "  return char_list\n",
        "\n",
        "nums = get_num_list()\n",
        "protected_characteristics = get_protected_characteristics()\n",
        "characteristics = get_protected_characteristic_list(protected_characteristics)"
      ],
      "execution_count": 86,
      "outputs": []
    },
    {
      "cell_type": "markdown",
      "metadata": {
        "id": "xXT38-4ZV45n"
      },
      "source": [
        "## The exercises below will use the lists:  \n",
        "*   **nums** (a list of between 1 and 1000 random numbers, each number is between 0 and 1000)\n",
        "*   **characteristics** (a list of 5000 random protected_characteristics)\n",
        "\n",
        "and the tuple:\n",
        "*  **protected_characteristics** (a set of the 9 protected characteristics identified in the Equality Act)\n",
        "\n",
        "## You can run the cell above any number of times to generate new lists."
      ]
    },
    {
      "cell_type": "markdown",
      "metadata": {
        "id": "Ft0dXl7fUuaK"
      },
      "source": [
        "---\n",
        "### Exercise 1 - list head, tail and shape\n",
        "\n",
        "Write a function, **describe_list()** which will:\n",
        "*  print the length of the list `nums`\n",
        "*  print the first 10 items in `nums`  \n",
        "*  print the last 5 items in `nums`"
      ]
    },
    {
      "cell_type": "code",
      "metadata": {
        "id": "jUcZD7mmTJdA",
        "colab": {
          "base_uri": "https://localhost:8080/"
        },
        "outputId": "392c46ab-156b-4dbe-e130-3e5a32023315"
      },
      "source": [
        "def describe_list(nums):\n",
        "  print(len(nums))\n",
        "  print(nums[:10])\n",
        "  print(nums[-5:])\n",
        "\n",
        "\n",
        "#the_list = [1, 2, 3, 4, 5, 6, 7, 8, 9, 10, 11, 12]\n",
        "describe_list(nums)"
      ],
      "execution_count": 8,
      "outputs": [
        {
          "output_type": "stream",
          "name": "stdout",
          "text": [
            "1000\n",
            "[37, 56, 39, 99, 39, 32, 14, 33, 95, 76]\n",
            "[75, 14, 41, 89, 73]\n"
          ]
        }
      ]
    },
    {
      "cell_type": "markdown",
      "metadata": {
        "id": "yNWg08k6bXv0"
      },
      "source": [
        "---\n",
        "### Exercise 2 - show tuple items\n",
        "\n",
        "Write a function which will:\n",
        "*   use a loop to print the list of protected characteristics from the `protected_characteristics` tuple.\n"
      ]
    },
    {
      "cell_type": "code",
      "metadata": {
        "id": "P2HnCG9pb1BS",
        "colab": {
          "base_uri": "https://localhost:8080/"
        },
        "outputId": "1b8023dc-3780-4a77-eb77-40a75d26d4fa"
      },
      "source": [
        "def pc_list():\n",
        "  Length = (len(protected_characteristics))\n",
        "\n",
        "  for i in range(0,Length):\n",
        "    print(\"*\", protected_characteristics[i])\n",
        "\n",
        "\n",
        "pc_list()"
      ],
      "execution_count": 11,
      "outputs": [
        {
          "output_type": "stream",
          "name": "stdout",
          "text": [
            "* age\n",
            "* disability\n",
            "* gender reassignment\n",
            "* marriage and civil partnership\n",
            "* pregnancy and maternity\n",
            "* race\n",
            "* religion or belief\n",
            "* sex\n",
            "* sexual orientation\n"
          ]
        }
      ]
    },
    {
      "cell_type": "markdown",
      "metadata": {
        "id": "RTSuQZs4b1JU"
      },
      "source": [
        "---\n",
        "### Exercise 3 - list a random subset\n",
        "\n",
        "Write a function which will:\n",
        "*  calculate the position of the middle item in the `characteristics` list   \n",
        "(*Hint: use len() to help with this*)\n",
        "*  calculate the position of the item that is 5 places before the middle item\n",
        "*  calculate the position of the item that is 5 places after the middle item\n",
        "*  print the part of the list that includes the items from 5 places before to 5 places after.  \n",
        "\n",
        "Expected output:  \n",
        "Your list will include 11 items."
      ]
    },
    {
      "cell_type": "code",
      "metadata": {
        "id": "OwhFnH2kdC11",
        "colab": {
          "base_uri": "https://localhost:8080/"
        },
        "outputId": "cf865966-384f-4cd7-f7f8-642b3507d16f"
      },
      "source": [
        "def middle_bit():\n",
        "  #characteristics = [\"Gold\", \"Red\", \"Green\", \"Blue\", \"Yellow\", \"Orange\", \"Purple\", \"Black\", \"White\", \"Violet\", \"Indigo\", \"Pink\", \"Silver\"]\n",
        "  \n",
        "  Index = int((len(characteristics)/2))\n",
        "  \n",
        "  five_before = (Index-5)\n",
        "  five_after = ((Index+5)+1)\n",
        "\n",
        "  print(characteristics[five_before:five_after])\n",
        "\n",
        "\n",
        "middle_bit()"
      ],
      "execution_count": 25,
      "outputs": [
        {
          "output_type": "stream",
          "name": "stdout",
          "text": [
            "['marriage and civil partnership', 'disability', 'sex', 'marriage and civil partnership', 'marriage and civil partnership', 'gender reassignment', 'age', 'sexual orientation', 'sexual orientation', 'race', 'gender reassignment']\n"
          ]
        }
      ]
    },
    {
      "cell_type": "markdown",
      "metadata": {
        "id": "KS0x3oFNePI9"
      },
      "source": [
        "---\n",
        "### Exercise 4 - create a copy\n",
        "\n",
        "Write a function which will: use a for loop to create a copy of the `nums` list:\n",
        "\n",
        "*   create a new, empty, list called **new_nums**  (*Hint: an empty list is [ ]*)\n",
        "*   use a for loop which uses the following syntax:  `for num in nums:`\n",
        "*   each time round the loop append `num` to `new_nums`  ( *`new_nums.append(num)`*)\n",
        "*   print the first 10 items of `new_nums`\n",
        "*   print the first 10 items of `nums`\n",
        "*   print the length of both lists"
      ]
    },
    {
      "cell_type": "code",
      "metadata": {
        "id": "mpK1Ip3we-uC",
        "colab": {
          "base_uri": "https://localhost:8080/"
        },
        "outputId": "04c7c335-f687-4823-aa9f-bc78ccdd0257"
      },
      "source": [
        "def copy_list():\n",
        "  new_nums = []\n",
        "  \n",
        "  for num in nums:\n",
        "     new_nums.append(num)\n",
        "\n",
        "  print(new_nums[:10])\n",
        "  print(nums[:10])\n",
        "  print(len(nums))\n",
        "  print(len(new_nums))\n",
        "\n",
        "\n",
        "copy_list()"
      ],
      "execution_count": 28,
      "outputs": [
        {
          "output_type": "stream",
          "name": "stdout",
          "text": [
            "[55, 9, 28, 79, 23, 48, 67, 53, 45, 48]\n",
            "[55, 9, 28, 79, 23, 48, 67, 53, 45, 48]\n",
            "1000\n",
            "1000\n"
          ]
        }
      ]
    },
    {
      "cell_type": "markdown",
      "metadata": {
        "id": "deUIFWjRe-3G"
      },
      "source": [
        "\n",
        "\n",
        "```\n",
        "# This is formatted as code\n",
        "```\n",
        "\n",
        "---\n",
        "### Exercise 5 - count the occurrence of age in characteristics\n",
        "\n",
        "Write a function which will use the list method:\n",
        "\n",
        "`num_items = list_name.count(item)`\n",
        "\n",
        "to count the number of occurrences of 'age' in the `characteristics` list.  Print the result."
      ]
    },
    {
      "cell_type": "code",
      "metadata": {
        "id": "b9TrHQ9hfoIU",
        "colab": {
          "base_uri": "https://localhost:8080/"
        },
        "outputId": "bf39ed29-4385-4fe6-d106-08c0e9f9a54a"
      },
      "source": [
        "def count_times():\n",
        "  \n",
        "  num_items = characteristics.count(\"age\")\n",
        "  print(num_items)\n",
        "\n",
        "\n",
        "count_times()"
      ],
      "execution_count": 37,
      "outputs": [
        {
          "output_type": "stream",
          "name": "stdout",
          "text": [
            "540\n"
          ]
        }
      ]
    },
    {
      "cell_type": "markdown",
      "metadata": {
        "id": "zm2VI5RmfoSy"
      },
      "source": [
        "---\n",
        "### Exercise 6 - sort the nums list\n",
        "\n",
        "Write a function which will:\n",
        "*   call the function `get_num_list()` and store the result in a new list called **sort_nums**\n",
        "*   print the first, and last, 20 items in the `sort_nums` list\n",
        "*   use the `list_name.sort()` method to sort the `sort_nums` list into ascending order\n",
        "*   print the first, and last, 20 items again  \n",
        "*   use the `list_name.sort()` method again to sort the `sort_nums` list into descending order\n",
        "*   print the first, and last, 20 items again"
      ]
    },
    {
      "cell_type": "code",
      "metadata": {
        "id": "Fksgpj9JgWDs",
        "colab": {
          "base_uri": "https://localhost:8080/"
        },
        "outputId": "7016e05a-2781-488a-dc6e-2d50ccd242c2"
      },
      "source": [
        "def sort_numbers():\n",
        "  sort_nums = get_num_list()\n",
        "\n",
        "  for i in range(1,4):\n",
        "\n",
        "    print(sort_nums[:20])\n",
        "    print(sort_nums[-20:len(sort_nums)]) #print from -20 to the end of list\n",
        "    \n",
        "    if i == 1:\n",
        "      sort_nums.sort()\n",
        "    else:\n",
        "      sort_nums.sort(reverse=True)\n",
        "\n",
        "\n",
        "sort_numbers()"
      ],
      "execution_count": 43,
      "outputs": [
        {
          "output_type": "stream",
          "name": "stdout",
          "text": [
            "[17, 46, 10, 98, 44, 35, 75, 33, 32, 48, 88, 68, 10, 23, 56, 66, 69, 55, 81, 94]\n",
            "[71, 57, 100, 72, 70, 53, 83, 34, 52, 33, 14, 11, 87, 85, 80, 2, 67, 99, 3, 94]\n",
            "[1, 1, 1, 1, 1, 1, 1, 1, 2, 2, 2, 2, 2, 2, 2, 3, 3, 3, 3, 3]\n",
            "[99, 99, 99, 99, 99, 99, 99, 100, 100, 100, 100, 100, 100, 100, 100, 100, 100, 100, 100, 100]\n",
            "[100, 100, 100, 100, 100, 100, 100, 100, 100, 100, 100, 100, 100, 99, 99, 99, 99, 99, 99, 99]\n",
            "[3, 3, 3, 3, 3, 2, 2, 2, 2, 2, 2, 2, 1, 1, 1, 1, 1, 1, 1, 1]\n"
          ]
        }
      ]
    },
    {
      "cell_type": "markdown",
      "metadata": {
        "id": "_OF-Xuj1UrW0"
      },
      "source": [
        "---\n",
        "### Exercise 7 - get statistics (max(), min(), sum() )\n",
        "\n",
        "Write a function which will:\n",
        "*   print the maximum and minimum numbers in the `nums` list  \n",
        "*   print the sum of the `nums` list\n",
        "*   calculate and print the average of the `nums` list (using `len()` to help)"
      ]
    },
    {
      "cell_type": "code",
      "metadata": {
        "id": "9YmYMenZVGod",
        "colab": {
          "base_uri": "https://localhost:8080/"
        },
        "outputId": "9d2fb4be-d00a-40d7-b5ca-85706da54c69"
      },
      "source": [
        "def number_stats():\n",
        "  nums = get_num_list()\n",
        "\n",
        "  nums.sort()\n",
        "\n",
        "  print(\"The MAX number in the nums list is\", nums[-1])\n",
        "  print(\"The MIN number in the nums list is\", nums[0])\n",
        "\n",
        "  sum = 0\n",
        "  for i in range(0,len(nums)):\n",
        "    sum += nums[i]\n",
        "  print(\"The SUM of the numbers in nums list is\", sum)\n",
        "\n",
        "  average = int(sum / (len(nums)))\n",
        "  print(\"The AVERAGE of all the numbers in nums is\", average)\n",
        "\n",
        "\n",
        "number_stats()"
      ],
      "execution_count": 47,
      "outputs": [
        {
          "output_type": "stream",
          "name": "stdout",
          "text": [
            "The MAX number in the nums list is 100\n",
            "The MIN number in the nums list is 1\n",
            "The SUM of the numbers in nums list is 51145\n",
            "The AVERAGE of all the numbers in nums is 51\n"
          ]
        }
      ]
    },
    {
      "cell_type": "markdown",
      "metadata": {
        "id": "Mn4tHQ_KVbHa"
      },
      "source": [
        "---\n",
        "### Exercise 8 - percentage difference\n",
        "\n",
        "Write a function which will:\n",
        "*   generate a new list called **ex8_nums** using `get_num_list()`\n",
        "*   calculate and print the percentage difference between the first number in each list (as a percentage of the number in the nums list) (Hint:  find the difference between the two numbers, divide the difference by the number in `nums` and multiply by 100)\n",
        "*   calculate and print the percentage difference between the last numbers in each list in the same way\n",
        "*   calculate and print the percentage difference between the middle numbers in each list in the same way.\n",
        "*   calculate and print the percentage difference between the sums of each list in the same way"
      ]
    },
    {
      "cell_type": "code",
      "metadata": {
        "id": "nJCQjZIeZL0e",
        "colab": {
          "base_uri": "https://localhost:8080/"
        },
        "outputId": "c07c1e63-2dfa-4c21-f49d-c97a19c6434e"
      },
      "source": [
        "#programming wise this is a bit of a mess but it does what it says on the tin. (Maybe!)\n",
        "\n",
        "def percentage_dif():\n",
        "  ex8_nums = get_num_list()\n",
        "  \n",
        "  first_dif = ((ex8_nums[0] - nums[0]) / nums[0] * 100)\n",
        "  print(\"First numbers in list:\", first_dif)\n",
        "\n",
        "  last_dif = ((ex8_nums[-1] - nums[-1]) / nums[-1] * 100)\n",
        "  print(\"Last numbers in list:\", last_dif)\n",
        "\n",
        "  mid_dif = ((ex8_nums[int(len(ex8_nums)/2)] - nums[int(len(nums)/2)]) / nums[int(len(nums)/2)] * 100)\n",
        "  print(\"Middle numbers in list:\", mid_dif)\n",
        "\n",
        "  ex8_sum = 0\n",
        "  for i in range(0,len(ex8_nums)):\n",
        "    ex8_sum += ex8_nums[i]  \n",
        "\n",
        "  nums_sum = 0\n",
        "  for i in range(0,len(nums)):\n",
        "    nums_sum += nums[i]\n",
        "\n",
        "  sum_dif = ((ex8_sum - nums_sum) / nums_sum * 100)\n",
        "  print(\"Sum difference:\", sum_dif)\n",
        "\n",
        "\n",
        "percentage_dif()"
      ],
      "execution_count": 77,
      "outputs": [
        {
          "output_type": "stream",
          "name": "stdout",
          "text": [
            "First numbers in list: -76.36363636363637\n",
            "Last numbers in list: 1.0204081632653061\n",
            "Middle numbers in list: 311.11111111111114\n",
            "Sum difference: -4.0012467370553635\n"
          ]
        }
      ]
    },
    {
      "cell_type": "markdown",
      "metadata": {
        "id": "HNs3lZmYawFO"
      },
      "source": [
        "---\n",
        "### Exercise 9 - characteristic counts\n",
        "\n",
        "Write a function which will:\n",
        "*  iterate through the `protected_characteristics` tuple and for each **characteristic**:\n",
        "*   *   count the number of occurrences of that `characteristic` in the `characteristics` list\n",
        "*   *   print the `protected_characteristic` and the **count**  \n",
        "\n",
        "Example expected output:\n",
        "\n",
        "age 100  \n",
        "disability 120  \n",
        "gender reassignment 120  \n",
        "marriage and civil partnership 111  \n",
        "pregnancy and maternity 103  \n",
        "race 106  \n",
        "religion or belief 95  \n",
        "sex 110  \n",
        "sexual orientation 113  \n",
        "\n",
        "Extra learning:  you can read [here](https://thispointer.com/python-how-to-pad-strings-with-zero-space-or-some-other-character/) how to justify the printed characteristic so that the output is organised into two columns as shown below:  \n",
        "![tabulated output](https://drive.google.com/uc?id=1CCXfX6K5ZeDefnq7vUsqxCDmqvcfY8Mz)\n",
        "\n",
        "\n",
        "\n"
      ]
    },
    {
      "cell_type": "code",
      "metadata": {
        "id": "GURT11albqUs",
        "colab": {
          "base_uri": "https://localhost:8080/"
        },
        "outputId": "13f7a945-11a5-4d85-959f-5be5e562df1a"
      },
      "source": [
        "def count_times():\n",
        "\n",
        "  for i in range(0,len(protected_characteristics)):\n",
        "    #print(protected_characteristics[i])\n",
        "    num_items = characteristics.count((protected_characteristics[i]))\n",
        "    print(protected_characteristics[i], num_items)\n",
        "\n",
        "\n",
        "count_times()"
      ],
      "execution_count": 78,
      "outputs": [
        {
          "output_type": "stream",
          "name": "stdout",
          "text": [
            "age 540\n",
            "disability 522\n",
            "gender reassignment 512\n",
            "marriage and civil partnership 528\n",
            "pregnancy and maternity 536\n",
            "race 535\n",
            "religion or belief 562\n",
            "sex 506\n",
            "sexual orientation 521\n"
          ]
        }
      ]
    },
    {
      "cell_type": "markdown",
      "metadata": {
        "id": "9Po7yQj-ds38"
      },
      "source": [
        "---\n",
        "### Exercise 10 - characteristics statistics\n",
        "\n",
        "Assuming that the `characteristics` list may have been taken from a study of cases that have been taken to court in relation to the Equality Act.  \n",
        "\n",
        "Write a function which will:\n",
        "\n",
        "*   find the most common characteristic resulting in court action, from this population\n",
        "*   print this in a message, e.g. The characteristic with the highest number of court cases is:  *characteristic*\n",
        "*   print the list of `protected_characteristics`, on one line if possible - see [here](https://www.geeksforgeeks.org/g-fact-25-print-single-multiple-variable-python/)\n",
        "*   ask the user to enter a characteristic that they would like to see statistics on and use a while loop to continue until the user has entered a valid characteristic\n",
        "*   print the characteristic, its frequency and the percentage that this frequency is of the whole population."
      ]
    },
    {
      "cell_type": "code",
      "metadata": {
        "id": "uk_I5z7UgbDs",
        "colab": {
          "base_uri": "https://localhost:8080/"
        },
        "outputId": "29f77408-5c22-443d-f951-d9dc19a90510"
      },
      "source": [
        "from typing_extensions import TypeVarTuple\n",
        "def most_times():\n",
        "  pc_high =\"\"\n",
        "  pc_count = 0\n",
        "  percent_total = 0\n",
        "\n",
        "  for i in range(0,len(protected_characteristics)):\n",
        "    \n",
        "    num_items = characteristics.count((protected_characteristics[i]))\n",
        "    percent_total += num_items #for use late on!\n",
        "\n",
        "    if num_items > pc_count:\n",
        "      pc_high = protected_characteristics[i]\n",
        "      pc_count = num_items\n",
        "  \n",
        "  print(\"The characteristic with the highest number of court cases is:\", pc_high, \"with a total number of\", pc_count, \"Court cases.\")\n",
        "  print(protected_characteristics, end=\" \")\n",
        "\n",
        "  print(\"\")\n",
        "\n",
        "  valid = False\n",
        "  while valid == False:\n",
        "    user = input(\"Please enter a characterist that you would like the statistics on: \")\n",
        "    for n in range(0,len(protected_characteristics)):\n",
        "      if user == protected_characteristics[n]:\n",
        "        pc_item = n\n",
        "        valid = True\n",
        "\n",
        "  that_num = characteristics.count((protected_characteristics[pc_item]))\n",
        "\n",
        "  percentage = that_num / percent_total * 100\n",
        "\n",
        "  print(protected_characteristics[pc_item], \"accounted for\", that_num, \"of Court cases. That is\", percentage, \"% of Court cases.\" )\n",
        "\n",
        "\n",
        "most_times()\n"
      ],
      "execution_count": 120,
      "outputs": [
        {
          "output_type": "stream",
          "name": "stdout",
          "text": [
            "The characteristic with the highest number of court cases is: disability with a total number of 357 Court cases.\n",
            "('age', 'disability', 'gender reassignment', 'marriage and civil partnership', 'pregnancy and maternity', 'race', 'religion or belief', 'sex', 'sexual orientation') \n",
            "Please enter a characterist that you would like the statistics on: race\n",
            "race accounted for 313 of Court cases. That is 10.468227424749164 % of Court cases.\n"
          ]
        }
      ]
    }
  ]
}