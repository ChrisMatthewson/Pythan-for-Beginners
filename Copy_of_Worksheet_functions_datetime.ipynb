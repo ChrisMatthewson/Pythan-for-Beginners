{
  "nbformat": 4,
  "nbformat_minor": 0,
  "metadata": {
    "colab": {
      "name": "Copy of Worksheet-functions-datetime.ipynb",
      "provenance": [],
      "collapsed_sections": [],
      "include_colab_link": true
    },
    "kernelspec": {
      "name": "python3",
      "display_name": "Python 3"
    },
    "language_info": {
      "name": "python"
    }
  },
  "cells": [
    {
      "cell_type": "markdown",
      "metadata": {
        "id": "view-in-github",
        "colab_type": "text"
      },
      "source": [
        "<a href=\"https://colab.research.google.com/github/ChrisMatthewson/Pythan-for-Beginners/blob/main/Copy_of_Worksheet_functions_datetime.ipynb\" target=\"_parent\"><img src=\"https://colab.research.google.com/assets/colab-badge.svg\" alt=\"Open In Colab\"/></a>"
      ]
    },
    {
      "cell_type": "markdown",
      "metadata": {
        "id": "7iQyKP-SQiw1"
      },
      "source": [
        "# User-defined functions using datetime library\n",
        "\n",
        "---\n"
      ]
    },
    {
      "cell_type": "markdown",
      "metadata": {
        "id": "Vi93h5I4QnKs"
      },
      "source": [
        "When working with dates and times, fairly common in data sets, we need to be able to extract certain bits of information.  \n",
        "\n",
        "In Python, as with other languages, dates and times are stored in a data structure that combines the two together and stores the information as a number of seconds since a start point (often 1st January 1900).  This is obviously a large number but every bit of information about a date can be extracted from it and used to give a wide range of information.  \n",
        "\n",
        "Have a go at the exercises below to use a selection of datetime functions and return a new bit of data from each, to be printed by the caller.\n",
        "\n",
        "Before you can use datetime functions you will need to import them. Import the datetime functions like this:\n",
        "\n",
        "`from datetime import datetime`  \n",
        "\n",
        "\n",
        "For more information about datetime functions visit [w3Schools-Python datetime](https://www.w3schools.com/python/python_datetime.asp) and [Python docs](https://docs.python.org/3/library/datetime.html)"
      ]
    },
    {
      "cell_type": "markdown",
      "metadata": {
        "id": "MIDLi7CNR034"
      },
      "source": [
        "---\n",
        "### Exercise 1 - print current date and time\n",
        "\n",
        "Write a function that will return the date and time now.  The caller will print it.  \n",
        "\n",
        "*Hint:  the format has been added for you, the other exercises will follow a similar format.   Always remember to import datetime from datetime as shown below*"
      ]
    },
    {
      "cell_type": "code",
      "metadata": {
        "id": "gS6GJdXbQfHp",
        "colab": {
          "base_uri": "https://localhost:8080/"
        },
        "outputId": "c49befbc-c3ec-4afb-f083-abfb64e3ed20"
      },
      "source": [
        "from datetime import datetime, timezone\n",
        "# add your function, called get_datetime_now() below here\n",
        "def get_datetime_now():\n",
        "  x = datetime.now()\n",
        "  return x  \n",
        "\n",
        "\n",
        "now_date_time = get_datetime_now()\n",
        "print(now_date_time)"
      ],
      "execution_count": 30,
      "outputs": [
        {
          "output_type": "stream",
          "name": "stdout",
          "text": [
            "2022-07-18 09:45:11.174558\n"
          ]
        }
      ]
    },
    {
      "cell_type": "markdown",
      "metadata": {
        "id": "Yy24sL0bUtpF"
      },
      "source": [
        "---\n",
        "Exercise 2 - print the current year\n",
        "\n",
        "Write a function that will return the current year.  The caller will print the year."
      ]
    },
    {
      "cell_type": "code",
      "metadata": {
        "id": "YqlQqPIqUtyr",
        "colab": {
          "base_uri": "https://localhost:8080/"
        },
        "outputId": "c02d393a-fd2c-4dba-f156-9b34ab1c7008"
      },
      "source": [
        "from datetime import datetime, timezone\n",
        "\n",
        "def get_datetime_now():\n",
        "  x = datetime.now()\n",
        "  return x  \n",
        "\n",
        "\n",
        "now_date_time = get_datetime_now()\n",
        "print(now_date_time.year)"
      ],
      "execution_count": 31,
      "outputs": [
        {
          "output_type": "stream",
          "name": "stdout",
          "text": [
            "2022\n"
          ]
        }
      ]
    },
    {
      "cell_type": "markdown",
      "metadata": {
        "id": "FzSVCaJKV1O1"
      },
      "source": [
        "---\n",
        "### Exercise 3 - print the current day of the week\n",
        "\n",
        "Write a function that will return the current day of the week.  The caller will print it."
      ]
    },
    {
      "cell_type": "code",
      "metadata": {
        "id": "OP4ZIXBWV1Yj",
        "colab": {
          "base_uri": "https://localhost:8080/"
        },
        "outputId": "d3a2fac9-f542-478b-c530-caf148b1465d"
      },
      "source": [
        "from datetime import datetime, timezone\n",
        "\n",
        "def get_datetime_now():\n",
        "  x = datetime.now()\n",
        "  return x  \n",
        "\n",
        "\n",
        "now_date_time = get_datetime_now()\n",
        "print(now_date_time.strftime(\"%A\"))"
      ],
      "execution_count": 32,
      "outputs": [
        {
          "output_type": "stream",
          "name": "stdout",
          "text": [
            "Monday\n"
          ]
        }
      ]
    },
    {
      "cell_type": "markdown",
      "metadata": {
        "id": "a8euCtdmWIDE"
      },
      "source": [
        "---\n",
        "### Exercise 4 - create a new date\n",
        "\n",
        "Write a function that will take 3 parameters, day, month, year (3 numbers that make a valid date) and will create, and return a new date.  The caller will print the date."
      ]
    },
    {
      "cell_type": "code",
      "metadata": {
        "id": "FbOFnTwnWILN",
        "colab": {
          "base_uri": "https://localhost:8080/"
        },
        "outputId": "b15fd913-5f2b-4e01-f81c-35964a3b7ed8"
      },
      "source": [
        "from datetime import datetime, timezone\n",
        "\n",
        "def get_datetime(day,month, year):\n",
        "  date = datetime(year, month, day)\n",
        "  return date  \n",
        "\n",
        "\n",
        "date = get_datetime(1,4,1999)\n",
        "print(date)"
      ],
      "execution_count": 33,
      "outputs": [
        {
          "output_type": "stream",
          "name": "stdout",
          "text": [
            "1999-04-01 00:00:00\n"
          ]
        }
      ]
    },
    {
      "cell_type": "markdown",
      "metadata": {
        "id": "f5SKVuE0WfcE"
      },
      "source": [
        "---\n",
        "### Exercise 5 - create a valid date\n",
        "\n",
        "Write a function that will take 3 parameters, day, month, year (3 numbers) and will:  \n",
        "*   check that the month is between 1 and 12  \n",
        "*   check that the day is valid for the month (e.g. if the month is 2, then the day must be between 1 and 28 (don't worry about leap years for the moment)  \n",
        "*   if the date is not valid, print an error message and return None (which the caller will print)  \n",
        "*   if the date is valid, store it in a new variable, return the variable and the caller will print it."
      ]
    },
    {
      "cell_type": "code",
      "metadata": {
        "id": "gclt-f9-XfdG",
        "colab": {
          "base_uri": "https://localhost:8080/"
        },
        "outputId": "92cd38dd-3349-46be-ee8b-2ef16b76f2bf"
      },
      "source": [
        "from datetime import datetime, timezone\n",
        "\n",
        "def get_datetime(day,month, year):\n",
        "  date = \"None\"\n",
        "  # check month:\n",
        "  if month < 1 or month > 12:\n",
        "    print (\"ERROR: Month needs to be between 1 and 12\")\n",
        "    return date\n",
        "  #Check day for given month:\n",
        "\n",
        "  #First check that day is not less than 1\n",
        "  if day < 1:\n",
        "    print(\"ERROR: All months start on the 1st!\")\n",
        "    return date\n",
        "\n",
        "  #Check months with 31 days:\n",
        "  elif month == 1 or month == 3 or month == 5 or month == 7 or month == 8 or month == 10 or month == 12:\n",
        "      if day > 31:\n",
        "        print(\"ERROR: That month only has 31 days\")\n",
        "        return date\n",
        "  \n",
        "  #Check months with 30 days:\n",
        "  elif month == 4 or month == 6 or month == 9 or month == 11:\n",
        "      if day > 30:\n",
        "        print(\"ERROR: That month only has 30 days!\")\n",
        "        return date\n",
        "\n",
        "  #Check months with 28 days:\n",
        "  else:\n",
        "      if day > 28:\n",
        "        print(\"ERROR: That month only has 28 days!\")\n",
        "        return date\n",
        "\n",
        "  # Date checked OK - Store date and return it for printing:\n",
        "  date = datetime(year, month, day)\n",
        "  return date\n",
        "\n",
        "\n",
        "# Test 5 dates:\n",
        "\n",
        "# Less than 1 day month:\n",
        "date = get_datetime(0,3,1999)\n",
        "print(date)\n",
        "\n",
        "# 31 day month:\n",
        "date = get_datetime(32,3,1999)\n",
        "print(date)\n",
        "\n",
        "# 30 day month:\n",
        "date = get_datetime(31,4,1999)\n",
        "print(date)\n",
        "\n",
        "# 28 day month:\n",
        "date = get_datetime(30,2,1999)\n",
        "print(date)\n",
        "\n",
        "# Correct day for given month:\n",
        "date = get_datetime(1,4,1999)\n",
        "print(\"Correct date set!\")\n",
        "print(date)"
      ],
      "execution_count": null,
      "outputs": [
        {
          "output_type": "stream",
          "name": "stdout",
          "text": [
            "ERROR: All months start on the 1st!\n",
            "None\n",
            "ERROR: That month only has 31 days\n",
            "None\n",
            "ERROR: That month only has 30 days!\n",
            "None\n",
            "ERROR: That month only has 28 days!\n",
            "None\n",
            "Correct date set!\n",
            "1999-04-01 00:00:00\n"
          ]
        }
      ]
    },
    {
      "cell_type": "markdown",
      "metadata": {
        "id": "js7fy2HWXfm2"
      },
      "source": [
        "---\n",
        "### Exercise 6 - is it a leap year?\n",
        "\n",
        "Write a function that will take a date as a parameter (you will need to create the date variable before calling the function) and will determine if it is a leap year, returning True or False.\n",
        "\n",
        "*Hint:  a leap year is a year that is divisible by 4 but the centuries (1900, 2000, etc are only leap years if they are divisible by 400)*"
      ]
    },
    {
      "cell_type": "code",
      "metadata": {
        "id": "KY1jtf3lX_ps",
        "colab": {
          "base_uri": "https://localhost:8080/"
        },
        "outputId": "a7e15631-10a1-4cbf-b67b-4b7a2220fa55"
      },
      "source": [
        "from datetime import datetime\n",
        "# add your code below here\n",
        "def is_leap_year(date_to_check):\n",
        "  \n",
        "  leap_year = False # Set the rerturn parameter to False.\n",
        "  \n",
        "  year = (check_date.strftime(\"%Y\")) # Get the year part of the time string.\n",
        "  right_two_digits = int((year[2:4])) # get just the right two digits of year string.\n",
        "  \n",
        "  if right_two_digits == 0: # check for dates ending in 00. Centuries.\n",
        "    if int(year) % 400 == 0: # Divide century by 400 and see if remainder 0 \n",
        "      leap_year = True # if 0 then it is a leap year.\n",
        "      return leap_year # return True\n",
        "  else:\n",
        "    if right_two_digits % 4 == 0: # Check non century dates.\n",
        "      leap_year = True # if devisible by 4, then it is a leap year.\n",
        "      return leap_year # return True\n",
        "\n",
        "\n",
        "\n",
        "\n",
        "# Here I have selected 4 dates to run, to check all parts of function run correctly\n",
        "\n",
        "check_date = datetime(1996, 12, 15)\n",
        "if is_leap_year(check_date):\n",
        "  print(check_date.strftime(\"%Y\"), \"is a leap year\")\n",
        "else:\n",
        "  print(check_date.strftime(\"%Y\"), \"is not a leap year\")\n",
        "\n",
        "check_date = datetime(1900, 12, 15)\n",
        "if is_leap_year(check_date):\n",
        "  print(check_date.strftime(\"%Y\"), \"is a leap year\")\n",
        "else:\n",
        "  print(check_date.strftime(\"%Y\"), \"is not a leap year\")\n",
        "\n",
        "check_date = datetime(2000, 12, 15)\n",
        "if is_leap_year(check_date):\n",
        "  print(check_date.strftime(\"%Y\"), \"is a leap year\")\n",
        "else:\n",
        "  print(check_date.strftime(\"%Y\"), \"is not a leap year\")\n",
        "\n",
        "check_date = datetime(2015, 12, 15)\n",
        "if is_leap_year(check_date):\n",
        "  print(check_date.strftime(\"%Y\"), \"is a leap year\")\n",
        "else:\n",
        "  print(check_date.strftime(\"%Y\"), \"is not a leap year\")\n",
        "\n",
        "\n"
      ],
      "execution_count": 35,
      "outputs": [
        {
          "output_type": "stream",
          "name": "stdout",
          "text": [
            "1996 is a leap year\n",
            "1900 is not a leap year\n",
            "2000 is a leap year\n",
            "2015 is not a leap year\n"
          ]
        }
      ]
    },
    {
      "cell_type": "markdown",
      "metadata": {
        "id": "9BuRDi08YAO0"
      },
      "source": [
        "---\n",
        "### Exercise 7 - display parts of date/time\n",
        "\n",
        "Write a function that will take a date and print from it the following:  \n",
        "*  given date and time  \n",
        "*  year (in full) \n",
        "*  month (as a number) \n",
        "*  month name \n",
        "*  week number of the year  \n",
        "*  weekday of the week (as a number)  \n",
        "*  day of year  \n",
        "*  day of the month  \n",
        "*  day of week (as a name)  \n",
        "\n",
        "*Hint:  see w3Schools for [strftime reference](https://www.w3schools.com/python/python_datetime.asp)*\n",
        "\n"
      ]
    },
    {
      "cell_type": "code",
      "metadata": {
        "id": "zl-37Ez9ahym",
        "colab": {
          "base_uri": "https://localhost:8080/"
        },
        "outputId": "504488a8-f4cf-4e00-d3f9-193440bc6c16"
      },
      "source": [
        "from datetime import datetime\n",
        "\n",
        "def multifunction(date_print):\n",
        "  print(date_print)\n",
        "  print(date_print.strftime(\"%Y\"))\n",
        "  print(date_print.strftime(\"%m\"))\n",
        "  print(date_print.strftime(\"%B\"))\n",
        "  print(date_print.strftime(\"%W\"))\n",
        "  print(date_print.strftime(\"%w\"))\n",
        "  print(date_print.strftime(\"%j\"))\n",
        "  print(date_print.strftime(\"%d\"))\n",
        "  print(date_print.strftime(\"%A\"))\n",
        "\n",
        "\n",
        "test_date = datetime(1996, 3, 19)\n",
        "multifunction(test_date)"
      ],
      "execution_count": 37,
      "outputs": [
        {
          "output_type": "stream",
          "name": "stdout",
          "text": [
            "1996-03-19 00:00:00\n",
            "1996\n",
            "03\n",
            "March\n",
            "12\n",
            "2\n",
            "079\n",
            "19\n",
            "Tuesday\n"
          ]
        }
      ]
    },
    {
      "cell_type": "markdown",
      "metadata": {
        "id": "_rpTIoSDaiBj"
      },
      "source": [
        "---\n",
        "### Exercise 8 - next 6 days\n",
        "\n",
        "Write a function that will take a date and generate the dates of the following 6 days.  It should print each of the 6 days in the form:  \n",
        "\n",
        "DAY OF THE WEEK, MONTH NAME, FULL YEAR\n",
        "\n",
        "Hint:  to generate the days, use the function datetime.timedelta(), there is a good example of its use [here](https://www.geeksforgeeks.org/python-datetime-timedelta-function/)  "
      ]
    },
    {
      "cell_type": "code",
      "metadata": {
        "id": "1d-oXqLLb0vX",
        "colab": {
          "base_uri": "https://localhost:8080/"
        },
        "outputId": "f1a4390e-407c-4f20-f508-97a044b07ab6"
      },
      "source": [
        "from datetime import datetime, timedelta\n",
        "\n",
        "def whole_week(date_print):\n",
        "  \n",
        "  # Print the dates in the format required and then increment the date by one day using timedelta:\n",
        "  # I understand that the day number wasn't asked for in the format, but I have added it to the to make it make more sense.\n",
        "\n",
        "  # Print the first date:\n",
        "  print((date_print.strftime(\"%A\")), (date_print.strftime(\"%B\")), (date_print.strftime(\"%d\")), (date_print.strftime(\"%Y\")))\n",
        "\n",
        "  for i in range(0,6):\n",
        "    date_print = date_print + timedelta(days=1)\n",
        "    print((date_print.strftime(\"%A\")), (date_print.strftime(\"%B\")), (date_print.strftime(\"%d\")), (date_print.strftime(\"%Y\")))\n",
        "    \n",
        "\n",
        "test_date = datetime(1996, 3, 27)\n",
        "whole_week(test_date)\n",
        "\n",
        "# This one seriously did my head in! "
      ],
      "execution_count": 29,
      "outputs": [
        {
          "output_type": "stream",
          "name": "stdout",
          "text": [
            "Wednesday March 27 1996\n",
            "Thursday March 28 1996\n",
            "Friday March 29 1996\n",
            "Saturday March 30 1996\n",
            "Sunday March 31 1996\n",
            "Monday April 01 1996\n",
            "Tuesday April 02 1996\n"
          ]
        }
      ]
    },
    {
      "cell_type": "markdown",
      "metadata": {
        "id": "22Rhwx2Sb1Ey"
      },
      "source": [
        "---\n",
        "### Optional extra practice\n",
        "\n",
        "There are some similar and some more challenging exercises [here](https://www.w3resource.com/python-exercises/date-time-exercise/) if you would like to practice more. The site has its own editor."
      ]
    }
  ]
}